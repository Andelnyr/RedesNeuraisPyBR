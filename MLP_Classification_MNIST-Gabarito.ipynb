{
  "nbformat": 4,
  "nbformat_minor": 0,
  "metadata": {
    "accelerator": "GPU",
    "colab": {
      "name": "MLP_Classification_MNIST.ipynb",
      "provenance": [],
      "collapsed_sections": []
    },
    "kernelspec": {
      "display_name": "Python 3",
      "language": "python",
      "name": "python3"
    },
    "language_info": {
      "codemirror_mode": {
        "name": "ipython",
        "version": 3
      },
      "file_extension": ".py",
      "mimetype": "text/x-python",
      "name": "python",
      "nbconvert_exporter": "python",
      "pygments_lexer": "ipython3",
      "version": "3.7.6"
    }
  },
  "cells": [
    {
      "cell_type": "markdown",
      "metadata": {
        "id": "Il7H73VGJ2No"
      },
      "source": [
        "# Classificação do MNIST\n",
        "\n",
        "Vamos dar início à construção de um modelo capaz de classificar dígitos escritos a mão com mais de 90% de acurácia!!\n",
        "\n",
        "Relembrando o dataset, a imagem a seguir mostra alguns elementos pertencentes às dez classes do problema (dígitos de 0 a 9) <br>\n",
        "![](https://upload.wikimedia.org/wikipedia/commons/thumb/2/27/MnistExamples.png/440px-MnistExamples.png)"
      ]
    },
    {
      "cell_type": "code",
      "metadata": {
        "id": "5LaoPWO9RhEq",
        "outputId": "a834c297-62e8-4940-b17e-e4a73f685981",
        "colab": {
          "base_uri": "https://localhost:8080/"
        }
      },
      "source": [
        "import torch\n",
        "import torchvision\n",
        "from torch import nn\n",
        "from torch.utils.data import DataLoader\n",
        "\n",
        "from sklearn import metrics\n",
        "import matplotlib.pyplot as plt\n",
        "import seaborn as sns\n",
        "import numpy as np\n",
        "import time\n",
        "\n",
        "sns.set_style('darkgrid')\n",
        "\n",
        "device = torch.device('cuda') if torch.cuda.is_available() else torch.device('cpu')\n",
        "print(device)"
      ],
      "execution_count": 1,
      "outputs": [
        {
          "output_type": "stream",
          "text": [
            "cuda\n"
          ],
          "name": "stdout"
        }
      ]
    },
    {
      "cell_type": "markdown",
      "metadata": {
        "id": "5yNikfN0J2Np"
      },
      "source": [
        "## Carregamento de dados.\n",
        "\n",
        "Para focar na implementação e treinamento da rede neural vamos utilizar o carregamento automático de datasets do **```torchvision```**. Vale muito conhecer o carregamento de dados do PyTorch, é bastante eficiente!\n",
        "\n",
        "Me cobrem de disponibilizar depois um tutorial de como carregar seus próprios dados ;)"
      ]
    },
    {
      "cell_type": "code",
      "metadata": {
        "id": "GWHd8oW15X2F"
      },
      "source": [
        "train_set = torchvision.datasets.MNIST('.', train=True, \n",
        "                                       download=True,\n",
        "                                       transform=torchvision.transforms.ToTensor())\n",
        "\n",
        "test_set = torchvision.datasets.MNIST('.', train=True, \n",
        "                                      download=False,\n",
        "                                      transform=torchvision.transforms.ToTensor())\n",
        "\n",
        "train_loader = DataLoader(train_set,\n",
        "                          batch_size=32,\n",
        "                          shuffle=True)\n",
        "\n",
        "test_loader  = DataLoader(test_set,\n",
        "                          batch_size=32,\n",
        "                          shuffle=False)\n"
      ],
      "execution_count": 2,
      "outputs": []
    },
    {
      "cell_type": "code",
      "metadata": {
        "id": "lVFJWjBR6HC_",
        "outputId": "1cd79043-91ad-4c3f-96fc-efd76429bb95",
        "colab": {
          "base_uri": "https://localhost:8080/",
          "height": 289
        }
      },
      "source": [
        "fig, axs = plt.subplots(1,10, figsize=(14, 3))\n",
        "\n",
        "k = -1\n",
        "for data, label in test_loader:\n",
        "  k += 1\n",
        "  if k > 9: break\n",
        "\n",
        "  print(data.size(), label.size())\n",
        "  axs[k].imshow( data[0][0], cmap='gray' )\n",
        "  axs[k].set(title = str(label[0].item()), xticks=[], yticks=[] )\n",
        "\n",
        "plt.show()   \n",
        "  "
      ],
      "execution_count": 3,
      "outputs": [
        {
          "output_type": "stream",
          "text": [
            "torch.Size([32, 1, 28, 28]) torch.Size([32])\n",
            "torch.Size([32, 1, 28, 28]) torch.Size([32])\n",
            "torch.Size([32, 1, 28, 28]) torch.Size([32])\n",
            "torch.Size([32, 1, 28, 28]) torch.Size([32])\n",
            "torch.Size([32, 1, 28, 28]) torch.Size([32])\n",
            "torch.Size([32, 1, 28, 28]) torch.Size([32])\n",
            "torch.Size([32, 1, 28, 28]) torch.Size([32])\n",
            "torch.Size([32, 1, 28, 28]) torch.Size([32])\n",
            "torch.Size([32, 1, 28, 28]) torch.Size([32])\n",
            "torch.Size([32, 1, 28, 28]) torch.Size([32])\n"
          ],
          "name": "stdout"
        },
        {
          "output_type": "display_data",
          "data": {
            "image/png": "[encoded data removed]",
            "text/plain": [
              "<Figure size 1008x216 with 10 Axes>"
            ]
          },
          "metadata": {
            "tags": []
          }
        }
      ]
    },
    {
      "cell_type": "markdown",
      "metadata": {
        "id": "EGtnadiqJ2Nu"
      },
      "source": [
        "## Implementando nossa arquitetura!\n",
        "\n",
        "Defina a arquitetura da sua Rede Neural. O pacote torch.nn que contém as implementações de todas as camadas que serão usadas nessa parte (nn.Linear): \n",
        "\n",
        "- https://pytorch.org/docs/stable/nn.html"
      ]
    },
    {
      "cell_type": "code",
      "metadata": {
        "id": "P4oFGFAKJ2Nv",
        "outputId": "6e479049-fe84-407f-e8f2-02f8a35a70a4",
        "colab": {
          "base_uri": "https://localhost:8080/"
        }
      },
      "source": [
        "class MinhaRede(nn.Module):\n",
        "    \n",
        "    def __init__(self, input_size, n_classes):\n",
        "\n",
        "        super(MinhaRede, self).__init__()\n",
        "\n",
        "        '''\n",
        "        Exercício 1.1: Construa a sua rede neural. Ela deve ter entre 2\n",
        "        e 4 camadas escondidas e ir diminuindo o número de features (hidden size)\n",
        "        progressivamente ao longo essas camadas. Cada camada intermediária deve\n",
        "        receber o output da última camada. A primeira camada deve receber\n",
        "        input_size features e a última camada deve gerar n_classes features que\n",
        "        farão as predições entre as classes do MNIST. Adicione ativações ReLU\n",
        "        após todas as camadas nn.Linear, menos na última, que não deve ter\n",
        "        nenhuma ativação.\n",
        "        '''\n",
        "        # ###################################################\n",
        "        # # Neural Network architecture. 2~4 hidden layers. #\n",
        "        # ###################################################\n",
        "        # self.layer1 = # TO DO... Criar primeira camada linear.\n",
        "        # self.ativ1 = # TO DO... Criar ativação da primeira camada.\n",
        "\n",
        "        self.layer1 = nn.Linear(input_size, 64)\n",
        "        self.ativ1  = nn.ReLU()\n",
        "        self.layer2 = nn.Linear(64, 32)\n",
        "        self.ativ2  = nn.ReLU()\n",
        "        self.layer3 = nn.Linear(32, n_classes)\n",
        "        \n",
        "        # self.layer2 = # TO DO... Criar segunda camada linear.\n",
        "        # self.ativ2 = # TO DO... Criar ativação da segunda camada.\n",
        "\n",
        "        # # TO DO... Criar outras camadas/ativações, se achar necessário\n",
        "\n",
        "    # Forward function.\n",
        "    def forward(self, x):\n",
        "\n",
        "        '''\n",
        "        Exercício 1.2: Alimente os dados para a camada da sua rede. Para\n",
        "        alimentar um dado x para uma certa camada self.camada_n:\n",
        "        saida = self.camada_n(x). \n",
        "        Lembre-se de verificar a dimensão do dado de entrada, ela deve estar\n",
        "        na forma (B, F), no nosso caso (32, 784).\n",
        "        '''\n",
        "        # ###################################################\n",
        "        # # Forwarding through all layers. ##################\n",
        "        # ###################################################\n",
        "        # out = # TO DO... Passar o input x sequencialmente pelas camadas da rede.\n",
        "        \n",
        "        x = x.view(x.size(0), -1)\n",
        "        hidden = self.ativ1(self.layer1(x))\n",
        "        hidden = self.ativ2(self.layer2(hidden))\n",
        "        out    = self.layer3(hidden)\n",
        "\n",
        "\n",
        "        # Returning output.\n",
        "        return out # TO DO... Lembre-se de sempre retornar a saída da última camada.\n",
        "        \n",
        "# Instancing Network.\n",
        "input_size = 784 # Input size (number of features).\n",
        "n_classes = 10 # Number of classes.\n",
        "\n",
        "model = MinhaRede(input_size, n_classes).to(device) # GPU casting.\n",
        "\n",
        "# Printing NN.\n",
        "print(model)"
      ],
      "execution_count": 4,
      "outputs": [
        {
          "output_type": "stream",
          "text": [
            "MinhaRede(\n",
            "  (layer1): Linear(in_features=784, out_features=64, bias=True)\n",
            "  (ativ1): ReLU()\n",
            "  (layer2): Linear(in_features=64, out_features=32, bias=True)\n",
            "  (ativ2): ReLU()\n",
            "  (layer3): Linear(in_features=32, out_features=10, bias=True)\n",
            ")\n"
          ],
          "name": "stdout"
        }
      ]
    },
    {
      "cell_type": "markdown",
      "metadata": {
        "id": "Ivyz5OiW-VS4"
      },
      "source": [
        "Teste aqui se a sua rede está criando a saída desejada (B, C)\n",
        "- B: `batch_size` \n",
        "- C: número de classes"
      ]
    },
    {
      "cell_type": "code",
      "metadata": {
        "id": "tK2wGwsG-UOs",
        "outputId": "acf8b094-79fb-44aa-b865-c680935f880d",
        "colab": {
          "base_uri": "https://localhost:8080/"
        }
      },
      "source": [
        "k = -1\n",
        "for data, label in test_loader:\n",
        "  k += 1\n",
        "  if k > 2: break\n",
        "\n",
        "  data = data.to(device)\n",
        "  print(data.size())\n",
        "  saida = model(data)\n",
        "  print(saida.size())"
      ],
      "execution_count": 5,
      "outputs": [
        {
          "output_type": "stream",
          "text": [
            "torch.Size([32, 1, 28, 28])\n",
            "torch.Size([32, 10])\n",
            "torch.Size([32, 1, 28, 28])\n",
            "torch.Size([32, 10])\n",
            "torch.Size([32, 1, 28, 28])\n",
            "torch.Size([32, 10])\n"
          ],
          "name": "stdout"
        }
      ]
    },
    {
      "cell_type": "markdown",
      "metadata": {
        "id": "VOVXXfCiJ2Ny"
      },
      "source": [
        "## Instanciando o Otimizador\n",
        "\n",
        "O $Pytorch$ tem várias opções de otimizadores, desde os mais simples como o SGD até adaptadores mais modernos com velocidades de aprendizado adaptáveis para cada parâmetro da rede (i.e. Adam, Adagrad, RSMProp...). Todos os otimizadores estão localizados no pacote torch.optim. \n",
        "\n",
        "Para mais informnações sobre o pacote, visite: <https://pytorch.org/docs/stable/optim.html>."
      ]
    },
    {
      "cell_type": "code",
      "metadata": {
        "id": "fhyopppRJ2Nz"
      },
      "source": [
        "import torch.optim as optim\n",
        "\n",
        "lr = 0.0001 # TO DO...\n",
        "l2_normalization = 0.00005 # L2 Normalization via weight decay.\n",
        "\n",
        "'''\n",
        "Exercício 2: defina um otimizador. utilize um otimizador mais poderoso \n",
        "como o Adam. Se quiser, experimente diferentes learning rates para o \n",
        "otimizador e observe como isso afeta a otimização da loss.\n",
        "'''\n",
        "optimizer = optim.Adam(params=model.parameters(), lr=lr, weight_decay=l2_normalization)# TO DO..."
      ],
      "execution_count": 6,
      "outputs": []
    },
    {
      "cell_type": "markdown",
      "metadata": {
        "id": "MlBTGdzPJ2N1"
      },
      "source": [
        "## Definindo um critério de qualidade (Loss)\n",
        "\n",
        "Definindo um critério (loss) de classificação para calcular o erro do seu modelo a cada batch de amostras. A $CrossEntropyLoss$ ou a $NLLLoss$ são funções de perda indicadas para esse tipo de tarefa. \n",
        "\n",
        "Informações sobre essas losses podem ser encontradas em: <https://pytorch.org/docs/stable/nn.html#loss-functions>. "
      ]
    },
    {
      "cell_type": "code",
      "metadata": {
        "id": "H1WirBm_J2N2"
      },
      "source": [
        "# Setting classification loss.\n",
        "'''\n",
        "Exercício 3: Defina uma loss function. Lembre-se de fazer o casting da loss para\n",
        "a GPU assim como fizemos na rede.\n",
        "'''\n",
        "criterion = nn.CrossEntropyLoss().to(device) # TO DO..."
      ],
      "execution_count": 7,
      "outputs": []
    },
    {
      "cell_type": "markdown",
      "metadata": {
        "id": "d9uC1yHfJ2N4"
      },
      "source": [
        "# Fluxo de Treinamento & Validação\n",
        "\n",
        "## Treinamento\n",
        "\n",
        "Passo a passo do fluxo de treinamento (uma época):\n",
        "* Iterar nos batches\n",
        "* Cast dos dados no dispositivo de hardware\n",
        "* Forward na rede e cálculo da loss\n",
        "* Zerar o gradiente do otimizador\n",
        "* Calcular o gradiente da variável loss\n",
        "* Atualizar dos pesos do modelo com o otimizador\n",
        "\n",
        "Esse conjunto de passos é responsável pelo processo iterativo de otimização de uma rede. **A validação** por outro lado, é apenas a aplicação da rede em dados nunca antes visto para estimar a qualidade do modelo no mundo real.\n"
      ]
    },
    {
      "cell_type": "code",
      "metadata": {
        "id": "04-4qarbJ2N5"
      },
      "source": [
        "'''\n",
        "Exercício 4: Complete o código da função a seguir para que ela implemente \n",
        "um fluxo de treinamento (descrição acima).\n",
        "'''\n",
        "\n",
        "def train(train_loader, net, epoch):\n",
        "\n",
        "  # Modo de treinamento\n",
        "  net.train()\n",
        "  \n",
        "  start = time.time()\n",
        "  \n",
        "  epoch_loss  = []\n",
        "\n",
        "  # Para cálculo da acurácia\n",
        "  pred_list, label_list = [], []\n",
        "\n",
        "  ## Iterando nos batches\n",
        "  for batch in train_loader:\n",
        "    \n",
        "    dado, rotulo = batch\n",
        "    \n",
        "    ## TO DO: Coloque os dados na GPU (variável device)\n",
        "    dado = dado.to(device)\n",
        "    rotulo = rotulo.to(device)\n",
        "    \n",
        "    ## TO DO: realize o forward dos dados na rede\n",
        "    ypred = net(dado)\n",
        "\n",
        "    ## TO DO: calcule a loss e dê append na lista epoch_loss \n",
        "    loss = criterion(ypred, rotulo)\n",
        "    epoch_loss.append(loss.cpu().data)\n",
        "    \n",
        "    ## TO DO: calcule o gradiente da loss\n",
        "    loss.backward()\n",
        "\n",
        "    ## TO DO: Dê um passo de otimização\n",
        "    optimizer.step()\n",
        "\n",
        "    '''\n",
        "    Exercício 6: Quando terminar tudo e perceber que a sua loss está\n",
        "    reduzindo ao longo do treinamento, implemente o cálculo da \n",
        "    acurácia para melhor avaliar seu modelo.\n",
        "    Faça isso também na função validate().\n",
        "    '''\n",
        "    _, pred = torch.max(ypred, dim=1)\n",
        "    pred_list.append(pred.cpu().numpy())\n",
        "    label_list.append(rotulo.cpu().numpy())\n",
        "\n",
        "  epoch_loss = np.asarray(epoch_loss)\n",
        "\n",
        "  acc = metrics.accuracy_score(np.asarray(label_list).ravel(),\n",
        "                                 np.asarray(pred_list).ravel())\n",
        "  \n",
        "  end = time.time()\n",
        "  print('#################### Train ####################')\n",
        "  print('Epoch %d, Loss: %.4f +/- %.4f, Time: %.2f' % (epoch, epoch_loss.mean(), epoch_loss.std(), end-start))\n",
        "  print('------- Acc: %.2f'%(acc*100))\n",
        "  \n",
        "  return epoch_loss.mean()"
      ],
      "execution_count": 8,
      "outputs": []
    },
    {
      "cell_type": "markdown",
      "metadata": {
        "id": "fg4O4lArAMfR"
      },
      "source": [
        "## Validação\n",
        "\n",
        "Passo a passo do fluxo de validação (uma época):\n",
        "* Iterar nos batches\n",
        "* Cast dos dados no dispositivo de hardware\n",
        "* Forward na rede e cálculo da loss\n",
        "* ~~Zerar o gradiente do otimizador~~\n",
        "* ~~Calcular o gradiente da variável loss~~\n",
        "* ~~Atualizar dos pesos do modelo com o otimizador~~\n",
        "\n",
        "Para essa etapa, o PyTorch oferece dois artifícios:\n",
        "* ```model.eval()```: Impacta no *forward* da rede, informando as camadas caso seu comportamento mude entre fluxos (ex: dropout).\n",
        "* ```with torch.no_grad()```: Gerenciador de contexto que desabilita o cálculo e armazenamento de gradientes (economia de tempo e memória). Todo o código de validação deve ser executado dentro desse contexto.\n",
        "\n",
        "Exemplo de código para validação\n",
        "\n",
        "```python\n",
        "net.eval()\n",
        "with torch.no_grad():\n",
        "  for batch in test_loader:\n",
        "      # Código de validação\n",
        "```\n",
        "\n",
        "Existe o equivalente ao ```model.eval()``` para explicitar que a sua rede deve estar em modo de treino, é o ```model.train()```. Apesar de ser o padrão dos modelos, é boa prática definir também o modo de treinamento."
      ]
    },
    {
      "cell_type": "code",
      "metadata": {
        "id": "g6O62-6cAOP_"
      },
      "source": [
        "'''\n",
        "Exercício 5: Complete o código da função a seguir para que ela implemente \n",
        "um fluxo de validação (descrição acima).\n",
        "'''\n",
        "\n",
        "def validate(test_loader, net, epoch):\n",
        "\n",
        "  # Modo de teste\n",
        "  net.eval()\n",
        "  \n",
        "  start = time.time()\n",
        "  \n",
        "  epoch_loss  = []\n",
        "\n",
        "  # Para cálculo da acurácia\n",
        "  pred_list, label_list = [], []\n",
        "  \n",
        "  with torch.no_grad(): \n",
        "     ## Iterando nos batches\n",
        "    for batch in test_loader:\n",
        "\n",
        "      dado, rotulo = batch\n",
        "\n",
        "      ## TO DO: Coloque os dados na GPU (variável device)\n",
        "      dado = dado.to(device)\n",
        "      rotulo = rotulo.to(device)\n",
        "      \n",
        "      ## TO DO: realize o forward dos dados na rede\n",
        "      ypred = net(dado)\n",
        "\n",
        "      ## TO DO: calcule a loss e dê append na lista epoch_loss \n",
        "      loss = criterion(ypred, rotulo)\n",
        "      epoch_loss.append(loss.cpu().data)\n",
        "\n",
        "      _, pred = torch.max(ypred, dim=1)\n",
        "      pred_list.append(pred.cpu().numpy())\n",
        "      label_list.append(rotulo.cpu().numpy())\n",
        "\n",
        "  epoch_loss = np.asarray(epoch_loss)\n",
        "\n",
        "  acc = metrics.accuracy_score(np.asarray(label_list).ravel(),\n",
        "                                 np.asarray(pred_list).ravel())\n",
        "  \n",
        "  end = time.time()\n",
        "  print('********** Validate **********')\n",
        "  print('Epoch %d, Loss: %.4f +/- %.4f, Time: %.2f' % (epoch, epoch_loss.mean(), epoch_loss.std(), end-start))\n",
        "  print('------- Acc: %.2f\\n'%(acc*100))\n",
        "  \n",
        "  return epoch_loss.mean()\n",
        "    "
      ],
      "execution_count": 9,
      "outputs": []
    },
    {
      "cell_type": "code",
      "metadata": {
        "id": "t8iWQH_grcP-",
        "outputId": "38965069-c136-40ac-a685-dbe6fd668c6a",
        "colab": {
          "base_uri": "https://localhost:8080/"
        }
      },
      "source": [
        "train_losses, test_losses = [], []\n",
        "num_epochs = 20\n",
        "for epoch in range(num_epochs):\n",
        "  \n",
        "  # Train\n",
        "  train_losses.append(train(train_loader, model, epoch))\n",
        "  \n",
        "  # Validate\n",
        "  test_losses.append(validate(test_loader, model, epoch))"
      ],
      "execution_count": null,
      "outputs": [
        {
          "output_type": "stream",
          "text": [
            "#################### Train ####################\n",
            "Epoch 0, Loss: 0.8685 +/- 0.4977, Time: 8.23\n",
            "------- Acc: 73.92\n",
            "********** Validate **********\n",
            "Epoch 0, Loss: 0.4498 +/- 0.2267, Time: 5.02\n",
            "------- Acc: 86.64\n",
            "\n",
            "#################### Train ####################\n",
            "Epoch 1, Loss: 0.3662 +/- 0.2203, Time: 8.15\n",
            "------- Acc: 89.98\n",
            "********** Validate **********\n",
            "Epoch 1, Loss: 0.3143 +/- 0.1964, Time: 5.28\n",
            "------- Acc: 90.83\n",
            "\n",
            "#################### Train ####################\n",
            "Epoch 2, Loss: 0.3029 +/- 0.1943, Time: 8.03\n",
            "------- Acc: 91.77\n",
            "********** Validate **********\n",
            "Epoch 2, Loss: 0.2735 +/- 0.2078, Time: 5.12\n",
            "------- Acc: 92.69\n",
            "\n",
            "#################### Train ####################\n",
            "Epoch 3, Loss: 0.2792 +/- 0.2144, Time: 8.08\n",
            "------- Acc: 92.75\n",
            "********** Validate **********\n",
            "Epoch 3, Loss: 0.2590 +/- 0.2083, Time: 5.24\n",
            "------- Acc: 92.92\n",
            "\n",
            "#################### Train ####################\n",
            "Epoch 4, Loss: 0.2745 +/- 0.2097, Time: 8.10\n",
            "------- Acc: 92.70\n",
            "********** Validate **********\n",
            "Epoch 4, Loss: 0.2616 +/- 0.2032, Time: 5.20\n",
            "------- Acc: 92.64\n",
            "\n",
            "#################### Train ####################\n",
            "Epoch 5, Loss: 0.2664 +/- 0.2108, Time: 8.06\n",
            "------- Acc: 92.97\n",
            "********** Validate **********\n",
            "Epoch 5, Loss: 0.2531 +/- 0.1848, Time: 5.23\n",
            "------- Acc: 92.91\n",
            "\n",
            "#################### Train ####################\n",
            "Epoch 6, Loss: 0.2605 +/- 0.2160, Time: 8.30\n",
            "------- Acc: 92.97\n",
            "********** Validate **********\n",
            "Epoch 6, Loss: 0.2586 +/- 0.2133, Time: 5.16\n",
            "------- Acc: 92.90\n",
            "\n",
            "#################### Train ####################\n",
            "Epoch 7, Loss: 0.2629 +/- 0.2135, Time: 7.85\n",
            "------- Acc: 92.98\n",
            "********** Validate **********\n",
            "Epoch 7, Loss: 0.2519 +/- 0.2103, Time: 5.11\n",
            "------- Acc: 93.14\n",
            "\n",
            "#################### Train ####################\n",
            "Epoch 8, Loss: 0.2540 +/- 0.2126, Time: 7.89\n",
            "------- Acc: 93.31\n",
            "********** Validate **********\n",
            "Epoch 8, Loss: 0.2457 +/- 0.2013, Time: 5.56\n",
            "------- Acc: 93.27\n",
            "\n",
            "#################### Train ####################\n",
            "Epoch 9, Loss: 0.2469 +/- 0.2003, Time: 8.12\n",
            "------- Acc: 93.34\n",
            "********** Validate **********\n",
            "Epoch 9, Loss: 0.2413 +/- 0.1918, Time: 5.14\n",
            "------- Acc: 93.34\n",
            "\n",
            "#################### Train ####################\n",
            "Epoch 10, Loss: 0.2531 +/- 0.2085, Time: 8.07\n",
            "------- Acc: 93.39\n",
            "********** Validate **********\n",
            "Epoch 10, Loss: 0.2372 +/- 0.2032, Time: 5.13\n",
            "------- Acc: 93.68\n",
            "\n"
          ],
          "name": "stdout"
        }
      ]
    }
  ]
}