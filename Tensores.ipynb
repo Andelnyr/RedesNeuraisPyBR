{
  "nbformat": 4,
  "nbformat_minor": 0,
  "metadata": {
    "colab": {
      "name": "Tensores.ipynb",
      "provenance": []
    },
    "kernelspec": {
      "display_name": "Python 3",
      "language": "python",
      "name": "python3"
    },
    "language_info": {
      "codemirror_mode": {
        "name": "ipython",
        "version": 3
      },
      "file_extension": ".py",
      "mimetype": "text/x-python",
      "name": "python",
      "nbconvert_exporter": "python",
      "pygments_lexer": "ipython3",
      "version": "3.7.7"
    }
  },
  "cells": [
    {
      "cell_type": "markdown",
      "metadata": {
        "id": "e1TMmJQy3L6P"
      },
      "source": [
        "# Tensores\n",
        "\n",
        "**O tensor é uma matriz multi-dimensional contendo elementos de um único tipo.**\n",
        "\n",
        "![](https://www.kdnuggets.com/wp-content/uploads/tensor-examples.jpg)\n",
        "\n",
        "Documentação do PyTorch <https://pytorch.org/docs/stable/tensors.html>."
      ]
    },
    {
      "cell_type": "code",
      "metadata": {
        "id": "_ZlEo2JsuOoe"
      },
      "source": [
        "import torch\n",
        "import torch.nn as nn"
      ],
      "execution_count": 1,
      "outputs": []
    },
    {
      "cell_type": "markdown",
      "metadata": {
        "id": "s6BDIawBuQkU"
      },
      "source": [
        "## Definindo Tensores de diferentes tipos."
      ]
    },
    {
      "cell_type": "code",
      "metadata": {
        "id": "B9H8PvH33L6Q",
        "outputId": "7bab54a2-213c-42f7-e4f4-a25ad19bd941",
        "colab": {
          "base_uri": "https://localhost:8080/"
        }
      },
      "source": [
        "print('-'*25)\n",
        "tns = torch.Tensor([[1, 2, 3], [4, 5, 6]])\n",
        "print(tns.size())\n",
        "print(tns)\n",
        "\n",
        "print('-'*25)\n",
        "tns = torch.FloatTensor([[1, 2, 3], [4, 5, 6]])\n",
        "print(tns.size())\n",
        "print(tns)\n",
        "\n",
        "print('-'*25)\n",
        "tns = torch.LongTensor([[1, 2, 3], [4, 5, 6]])\n",
        "print(tns.size())\n",
        "print(tns)\n",
        "\n",
        "print('-'*25)\n",
        "tns = torch.ByteTensor([[0, 0, 1], [1, 0, 0]])\n",
        "print(tns.size())\n",
        "print(tns)\n",
        "\n",
        "print('-'*25)\n",
        "tns = torch.IntTensor([[1, 2, 3], [4, 5, 6]])\n",
        "print(tns.size())\n",
        "print(tns)\n",
        "\n",
        "print('-'*25)\n",
        "tns = torch.DoubleTensor([[[1, 2, 3], [4, 5, 6]], [[7, 8, 9], [10, 11, 12]]])\n",
        "print(tns.size())\n",
        "print(tns)"
      ],
      "execution_count": 5,
      "outputs": [
        {
          "output_type": "stream",
          "text": [
            "-------------------------\n",
            "torch.Size([2, 3])\n",
            "tensor([[1., 2., 3.],\n",
            "        [4., 5., 6.]])\n",
            "-------------------------\n",
            "torch.Size([2, 3])\n",
            "tensor([[1., 2., 3.],\n",
            "        [4., 5., 6.]])\n",
            "-------------------------\n",
            "torch.Size([2, 3])\n",
            "tensor([[1, 2, 3],\n",
            "        [4, 5, 6]])\n",
            "-------------------------\n",
            "torch.Size([2, 3])\n",
            "tensor([[0, 0, 1],\n",
            "        [1, 0, 0]], dtype=torch.uint8)\n",
            "-------------------------\n",
            "torch.Size([2, 3])\n",
            "tensor([[1, 2, 3],\n",
            "        [4, 5, 6]], dtype=torch.int32)\n",
            "-------------------------\n",
            "torch.Size([2, 2, 3])\n",
            "tensor([[[ 1.,  2.,  3.],\n",
            "         [ 4.,  5.,  6.]],\n",
            "\n",
            "        [[ 7.,  8.,  9.],\n",
            "         [10., 11., 12.]]], dtype=torch.float64)\n"
          ],
          "name": "stdout"
        }
      ]
    },
    {
      "cell_type": "markdown",
      "metadata": {
        "id": "OR-kKhBu3L6V"
      },
      "source": [
        "## Indexando"
      ]
    },
    {
      "cell_type": "code",
      "metadata": {
        "id": "ldLZFmKX3L6X",
        "outputId": "7272bf3d-33c1-4ddb-d1bb-5caa1ccf7fa5",
        "colab": {
          "base_uri": "https://localhost:8080/"
        }
      },
      "source": [
        "print('tns: ', tns)\n",
        "print('-'*25)\n",
        "print('size: ', tns.size())\n",
        "print('-'*25)\n",
        "\n",
        "print('tns[0, 1, 1]: ', tns[0, 1, 1])\n",
        "tns[0, 1, 1] = 20\n",
        "print('tns[0, 1, 1]: ', tns[0, 1, 1])\n",
        "print('tns[0, :, 1]: ', tns[:, 1, 1])\n",
        "\n",
        "print('tns[0, 1, 1] > 10: ', (tns[0, 1, 1] > 10))\n",
        "print('tns[0, 1, 1].item() > 10: ', (tns[0, 1, 1].item() > 10))"
      ],
      "execution_count": 7,
      "outputs": [
        {
          "output_type": "stream",
          "text": [
            "tns:  tensor([[[ 1.,  2.,  3.],\n",
            "         [ 4., 20.,  6.]],\n",
            "\n",
            "        [[ 7.,  8.,  9.],\n",
            "         [10., 11., 12.]]], dtype=torch.float64)\n",
            "-------------------------\n",
            "size:  torch.Size([2, 2, 3])\n",
            "-------------------------\n",
            "tns[0, 1, 1]:  tensor(20., dtype=torch.float64)\n",
            "tns[0, 1, 1]:  tensor(20., dtype=torch.float64)\n",
            "tns[0, :, 1]:  tensor([20., 11.], dtype=torch.float64)\n",
            "tns[0, 1, 1] > 10:  tensor(True)\n",
            "tns[0, 1, 1].item() > 10:  True\n"
          ],
          "name": "stdout"
        }
      ]
    },
    {
      "cell_type": "markdown",
      "metadata": {
        "id": "LaUdc2kM3L6b"
      },
      "source": [
        "## Outras formas de criar tensores.\n",
        "\n",
        "$torch.from\\_numpy()$ -> Cria um tensor baseado em um ndarray, herdando seu tipo.\n",
        "\n",
        "$torch.ones()$ -> Cria um tensor preenchido com 1.\n",
        "\n",
        "$torch.zeros()$ -> Cria um tensor preenchido com 0."
      ]
    },
    {
      "cell_type": "code",
      "metadata": {
        "id": "BNvHk5wp3L6c",
        "outputId": "99923ef4-bcdc-49ad-ee7d-6851e1499d9e",
        "colab": {
          "base_uri": "https://localhost:8080/"
        }
      },
      "source": [
        "import numpy as np\n",
        "\n",
        "arr = np.array([[1, 2, 4], [8, 16, 32]])\n",
        "np_tns = torch.from_numpy(arr)\n",
        "\n",
        "print('arr: ', arr)\n",
        "print('type:', arr.dtype)\n",
        "print('-'*25)\n",
        "print('tns: ', np_tns)\n",
        "print(np_tns.dtype)\n",
        "print('-'*25)\n",
        "\n",
        "ones = torch.ones((4, 5))\n",
        "zeros = torch.zeros((4, 5))\n",
        "print('ones: ', ones)\n",
        "print('-'*25)\n",
        "print('zeros: ', zeros)"
      ],
      "execution_count": 9,
      "outputs": [
        {
          "output_type": "stream",
          "text": [
            "arr:  [[ 1  2  4]\n",
            " [ 8 16 32]]\n",
            "type: int64\n",
            "-------------------------\n",
            "tns:  tensor([[ 1,  2,  4],\n",
            "        [ 8, 16, 32]])\n",
            "torch.int64\n",
            "-------------------------\n",
            "ones:  tensor([[1., 1., 1., 1., 1.],\n",
            "        [1., 1., 1., 1., 1.],\n",
            "        [1., 1., 1., 1., 1.],\n",
            "        [1., 1., 1., 1., 1.]])\n",
            "-------------------------\n",
            "zeros:  tensor([[0., 0., 0., 0., 0.],\n",
            "        [0., 0., 0., 0., 0.],\n",
            "        [0., 0., 0., 0., 0.],\n",
            "        [0., 0., 0., 0., 0.]])\n"
          ],
          "name": "stdout"
        }
      ]
    },
    {
      "cell_type": "markdown",
      "metadata": {
        "id": "0aYK6Yq33L6g"
      },
      "source": [
        "## GPU\n",
        "Para que as operações com o tensor sejam realizadas na GPU, é preciso colocá-lo explicitamente no dispositivo de hardware.\n",
        "\n",
        "Para isso, temos duas alternativas:\n",
        "```python\n",
        "## Definindo explicitamente\n",
        "tns.cuda()\n",
        "\n",
        "## Definindo de acordo com disponibilidade\n",
        "device = torch.device('cuda') if torch.cuda.is_available() else torch.device('cpu')\n",
        "tns.to(device)\n",
        "```"
      ]
    },
    {
      "cell_type": "code",
      "metadata": {
        "id": "ROck2x5L3L6i",
        "outputId": "71ee3bd5-c853-4220-a195-8bd4b8b1b363",
        "colab": {
          "base_uri": "https://localhost:8080/"
        }
      },
      "source": [
        "device = torch.device('cuda') if torch.cuda.is_available() else torch.device('cpu')\n",
        "print(device)\n",
        "\n",
        "tns = torch.ones([2, 4]).to(device)\n",
        "print(tns)"
      ],
      "execution_count": 10,
      "outputs": [
        {
          "output_type": "stream",
          "text": [
            "cpu\n",
            "tensor([[1., 1., 1., 1.],\n",
            "        [1., 1., 1., 1.]])\n"
          ],
          "name": "stdout"
        }
      ]
    },
    {
      "cell_type": "markdown",
      "metadata": {
        "id": "l6bYBiA93L6m"
      },
      "source": [
        "## Derivação automática\n",
        "Os tensores possuem um parâmetro chamado **```requires_grad```** que define se ele será usado para computar gradientes no processo de otimização.\n",
        "\n",
        "A função **```backward()```** é a primeira a ser chamada no processo de otimização de redes neurais."
      ]
    },
    {
      "cell_type": "code",
      "metadata": {
        "id": "eaBMgjiZ3L6o",
        "outputId": "e5a5afcb-2a9e-44de-b515-ec9bc1ea509f",
        "colab": {
          "base_uri": "https://localhost:8080/"
        }
      },
      "source": [
        "tns = torch.tensor([[1., -1.], [1., 1.]], requires_grad=True)\n",
        "print(tns)\n",
        "print('-'*25)\n",
        "\n",
        "out = tns.pow(2).sum()\n",
        "#############\n",
        "out.backward()\n",
        "#############\n",
        "print(tns.grad)"
      ],
      "execution_count": 4,
      "outputs": [
        {
          "output_type": "stream",
          "text": [
            "tensor([[ 1., -1.],\n",
            "        [ 1.,  1.]], requires_grad=True)\n",
            "-------------------------\n",
            "tensor([[ 2., -2.],\n",
            "        [ 2.,  2.]])\n"
          ],
          "name": "stdout"
        }
      ]
    }
  ]
}