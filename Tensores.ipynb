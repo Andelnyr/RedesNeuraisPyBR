{
  "nbformat": 4,
  "nbformat_minor": 0,
  "metadata": {
    "colab": {
      "name": "Tensores.ipynb",
      "provenance": []
    },
    "kernelspec": {
      "display_name": "Python 3",
      "language": "python",
      "name": "python3"
    },
    "language_info": {
      "codemirror_mode": {
        "name": "ipython",
        "version": 3
      },
      "file_extension": ".py",
      "mimetype": "text/x-python",
      "name": "python",
      "nbconvert_exporter": "python",
      "pygments_lexer": "ipython3",
      "version": "3.7.7"
    }
  },
  "cells": [
    {
      "cell_type": "markdown",
      "metadata": {
        "id": "e1TMmJQy3L6P"
      },
      "source": [
        "# Tensores\n",
        "\n",
        "**O tensor é uma matriz multi-dimensional contendo elementos de um único tipo.**\n",
        "\n",
        "![](https://github.com/peixebabel/RedesNeuraisPyBR/blob/main/figs/tensores.png?raw=true)\n",
        "\n",
        "\n",
        "\n",
        "Documentação do PyTorch <https://pytorch.org/docs/stable/tensors.html>."
      ]
    },
    {
      "cell_type": "code",
      "metadata": {
        "id": "_ZlEo2JsuOoe"
      },
      "source": [
        "import torch\n",
        "import torch.nn as nn"
      ],
      "execution_count": 35,
      "outputs": []
    },
    {
      "cell_type": "markdown",
      "metadata": {
        "id": "s6BDIawBuQkU"
      },
      "source": [
        "## Definindo Tensores de diferentes tipos."
      ]
    },
    {
      "cell_type": "code",
      "metadata": {
        "id": "B9H8PvH33L6Q",
        "outputId": "7a285f8d-f72d-4c5c-c205-36697795d7a7",
        "colab": {
          "base_uri": "https://localhost:8080/"
        }
      },
      "source": [
        "tns = torch.Tensor([[1, 2, 3], [4, 5, 6]])\n",
        "print(tns.size())\n",
        "print(tns, '\\n')\n",
        "\n",
        "tns = torch.FloatTensor([[1, 2, 3], [4, 5, 6]])\n",
        "print(tns.size())\n",
        "print(tns, '\\n')\n",
        "\n",
        "tns = torch.LongTensor([[1, 2, 3], [4, 5, 6]])\n",
        "print(tns.size())\n",
        "print(tns, '\\n')\n",
        "\n",
        "tns = torch.ByteTensor([[0, 0, 1], [1, 0, 0]])\n",
        "print(tns.size())\n",
        "print(tns, '\\n')\n",
        "\n",
        "tns = torch.IntTensor([[1, 2, 3], [4, 5, 6]])\n",
        "print(tns.size())\n",
        "print(tns, '\\n')\n",
        "\n",
        "tns = torch.DoubleTensor([[[1, 2, 3], [4, 5, 6]], [[7, 8, 9], [10, 11, 12]]])\n",
        "print(tns.size())\n",
        "print(tns, '\\n')"
      ],
      "execution_count": 42,
      "outputs": [
        {
          "output_type": "stream",
          "text": [
            "torch.Size([2, 3])\n",
            "tensor([[1., 2., 3.],\n",
            "        [4., 5., 6.]]) \n",
            "\n",
            "torch.Size([2, 3])\n",
            "tensor([[1., 2., 3.],\n",
            "        [4., 5., 6.]]) \n",
            "\n",
            "torch.Size([2, 3])\n",
            "tensor([[1, 2, 3],\n",
            "        [4, 5, 6]]) \n",
            "\n",
            "torch.Size([2, 3])\n",
            "tensor([[0, 0, 1],\n",
            "        [1, 0, 0]], dtype=torch.uint8) \n",
            "\n",
            "torch.Size([2, 3])\n",
            "tensor([[1, 2, 3],\n",
            "        [4, 5, 6]], dtype=torch.int32) \n",
            "\n",
            "torch.Size([2, 2, 3])\n",
            "tensor([[[ 1.,  2.,  3.],\n",
            "         [ 4.,  5.,  6.]],\n",
            "\n",
            "        [[ 7.,  8.,  9.],\n",
            "         [10., 11., 12.]]], dtype=torch.float64) \n",
            "\n"
          ],
          "name": "stdout"
        }
      ]
    },
    {
      "cell_type": "markdown",
      "metadata": {
        "id": "LaUdc2kM3L6b"
      },
      "source": [
        "## Outras formas de criar tensores.\n",
        "\n",
        "$torch.from\\_numpy()$ -> Cria um tensor baseado em um ndarray, herdando seu tipo.\n",
        "\n",
        "$torch.ones()$ -> Cria um tensor preenchido com 1.\n",
        "\n",
        "$torch.zeros()$ -> Cria um tensor preenchido com 0."
      ]
    },
    {
      "cell_type": "code",
      "metadata": {
        "id": "BNvHk5wp3L6c",
        "outputId": "ab2515e9-da1c-4a91-82d4-f81ee1c7ae33",
        "colab": {
          "base_uri": "https://localhost:8080/"
        }
      },
      "source": [
        "import numpy as np\n",
        "\n",
        "arr = np.array([[1, 2, 4], [8, 16, 32]])\n",
        "np_tns = torch.from_numpy(arr)\n",
        "\n",
        "print('arr: ', arr)\n",
        "print('type:', arr.dtype, '\\n')\n",
        "print('tns: ', np_tns)\n",
        "print(np_tns.dtype,'\\n')\n",
        "\n",
        "ones = torch.ones((4, 5))\n",
        "zeros = torch.zeros((4, 5))\n",
        "print('ones: ', ones,'\\n')\n",
        "print('zeros: ', zeros)"
      ],
      "execution_count": 41,
      "outputs": [
        {
          "output_type": "stream",
          "text": [
            "arr:  [[ 1  2  4]\n",
            " [ 8 16 32]]\n",
            "type: int64 \n",
            "\n",
            "tns:  tensor([[ 1,  2,  4],\n",
            "        [ 8, 16, 32]])\n",
            "torch.int64 \n",
            "\n",
            "ones:  tensor([[1., 1., 1., 1., 1.],\n",
            "        [1., 1., 1., 1., 1.],\n",
            "        [1., 1., 1., 1., 1.],\n",
            "        [1., 1., 1., 1., 1.]]) \n",
            "\n",
            "zeros:  tensor([[0., 0., 0., 0., 0.],\n",
            "        [0., 0., 0., 0., 0.],\n",
            "        [0., 0., 0., 0., 0.],\n",
            "        [0., 0., 0., 0., 0.]])\n"
          ],
          "name": "stdout"
        }
      ]
    },
    {
      "cell_type": "markdown",
      "metadata": {
        "id": "OR-kKhBu3L6V"
      },
      "source": [
        "## Indexando"
      ]
    },
    {
      "cell_type": "code",
      "metadata": {
        "id": "ldLZFmKX3L6X",
        "outputId": "21f28a0f-df6c-4c70-9f1b-f79e197298ef",
        "colab": {
          "base_uri": "https://localhost:8080/"
        }
      },
      "source": [
        "tns = torch.DoubleTensor([[1, 2, 3], [4, 5, 6], [7, 8, 9], [10, 11, 12]])\n",
        "print(tns)\n",
        "print('size: ', tns.size())\n",
        "\n",
        "print('\\n','-'*15+' Indexando '+'-'*15)\n",
        "\n",
        "print('tns[0, 1]: ', tns[0, 1])\n",
        "tns[0, 1] = 20\n",
        "print('tns[1, 2]: ', tns[1, 2])\n",
        "print('tns[:, 2]: ', tns[:, 2])\n",
        "\n",
        "print('\\n','-'*15+' .item() '+'-'*15)\n",
        "print('tns[0, 1] > 10: ', (tns[0, 1] > 10))\n",
        "print('tns[0, 1].item() > 10: ', (tns[0, 1].item() > 10))\n",
        "\n",
        "print('\\n','-'*15+' .numpy() '+'-'*15)\n",
        "print('tns[:, 1].numpy()', tns[:, 1].numpy())"
      ],
      "execution_count": 46,
      "outputs": [
        {
          "output_type": "stream",
          "text": [
            "tensor([[ 1.,  2.,  3.],\n",
            "        [ 4.,  5.,  6.],\n",
            "        [ 7.,  8.,  9.],\n",
            "        [10., 11., 12.]], dtype=torch.float64)\n",
            "size:  torch.Size([4, 3])\n",
            "\n",
            " --------------- Indexando ---------------\n",
            "tns[0, 1]:  tensor(2., dtype=torch.float64)\n",
            "tns[1, 2]:  tensor(6., dtype=torch.float64)\n",
            "tns[:, 2]:  tensor([ 3.,  6.,  9., 12.], dtype=torch.float64)\n",
            "\n",
            " --------------- .item() ---------------\n",
            "tns[0, 1] > 10:  tensor(True)\n",
            "tns[0, 1].item() > 10:  True\n",
            "\n",
            " --------------- .numpy() ---------------\n",
            "tns[:, 1].numpy() [20.  5.  8. 11.]\n"
          ],
          "name": "stdout"
        }
      ]
    },
    {
      "cell_type": "markdown",
      "metadata": {
        "id": "0aYK6Yq33L6g"
      },
      "source": [
        "## GPU\n",
        "Para que as operações com o tensor sejam realizadas na GPU, é preciso colocá-lo explicitamente no dispositivo de hardware.\n",
        "\n",
        "Para isso, temos duas alternativas:\n",
        "```python\n",
        "## Definindo explicitamente\n",
        "tns.cuda()\n",
        "\n",
        "## Definindo de acordo com disponibilidade\n",
        "device = torch.device('cuda') if torch.cuda.is_available() else torch.device('cpu')\n",
        "tns.to(device)\n",
        "```\n",
        "\n",
        "> Atenção: Altere as configurações do notebook para acessar a GPU no colab\n",
        "```bash\n",
        "Editar > Configurações de Notebook > GPU\n",
        "```"
      ]
    },
    {
      "cell_type": "code",
      "metadata": {
        "id": "ROck2x5L3L6i",
        "outputId": "bb372281-ba25-4698-fd63-40612a44a39b",
        "colab": {
          "base_uri": "https://localhost:8080/"
        }
      },
      "source": [
        "device = torch.device('cuda') if torch.cuda.is_available() else torch.device('cpu')\n",
        "print(device)\n",
        "\n",
        "tns = torch.ones([2, 4]).to(device)\n",
        "print(tns)"
      ],
      "execution_count": 2,
      "outputs": [
        {
          "output_type": "stream",
          "text": [
            "cuda\n",
            "tensor([[1., 1., 1., 1.],\n",
            "        [1., 1., 1., 1.]], device='cuda:0')\n"
          ],
          "name": "stdout"
        }
      ]
    },
    {
      "cell_type": "markdown",
      "metadata": {
        "id": "h0GI0DeuXce3"
      },
      "source": [
        "Uma vez que o tensor está na GPU, é preciso trazê-lo de volta para a memória principal para converter para numpy."
      ]
    },
    {
      "cell_type": "code",
      "metadata": {
        "id": "YsIYcF7jRaxk",
        "outputId": "74fd4d64-716e-4066-a38e-48cef6fe9b3f",
        "colab": {
          "base_uri": "https://localhost:8080/",
          "height": 169
        }
      },
      "source": [
        "tns.numpy()"
      ],
      "execution_count": 3,
      "outputs": [
        {
          "output_type": "error",
          "ename": "TypeError",
          "evalue": "ignored",
          "traceback": [
            "\u001b[0;31m---------------------------------------------------------------------------\u001b[0m",
            "\u001b[0;31mTypeError\u001b[0m                                 Traceback (most recent call last)",
            "\u001b[0;32m<ipython-input-3-e1056f22f2e5>\u001b[0m in \u001b[0;36m<module>\u001b[0;34m()\u001b[0m\n\u001b[0;32m----> 1\u001b[0;31m \u001b[0mtns\u001b[0m\u001b[0;34m.\u001b[0m\u001b[0mnumpy\u001b[0m\u001b[0;34m(\u001b[0m\u001b[0;34m)\u001b[0m\u001b[0;34m\u001b[0m\u001b[0;34m\u001b[0m\u001b[0m\n\u001b[0m",
            "\u001b[0;31mTypeError\u001b[0m: can't convert cuda:0 device type tensor to numpy. Use Tensor.cpu() to copy the tensor to host memory first."
          ]
        }
      ]
    },
    {
      "cell_type": "code",
      "metadata": {
        "id": "ILVmQnd2Rw4j",
        "outputId": "39f53539-1376-4220-cd23-d83fc42d20a7",
        "colab": {
          "base_uri": "https://localhost:8080/"
        }
      },
      "source": [
        "tns.cpu().numpy()"
      ],
      "execution_count": 4,
      "outputs": [
        {
          "output_type": "execute_result",
          "data": {
            "text/plain": [
              "array([[1., 1., 1., 1.],\n",
              "       [1., 1., 1., 1.]], dtype=float32)"
            ]
          },
          "metadata": {
            "tags": []
          },
          "execution_count": 4
        }
      ]
    },
    {
      "cell_type": "markdown",
      "metadata": {
        "id": "58KTJNm-R7_P"
      },
      "source": [
        "## Redimensionando\n",
        "\n",
        "Nossa prática vai trabalhar com imagens 3D (altura, largura e canais de cor), mas redes neurais clássicas trabalham apenas com características 1D. Para isso podemos usar a função **```.view()```** nos tensores e explicitar o novo tipo desejado."
      ]
    },
    {
      "cell_type": "code",
      "metadata": {
        "id": "IhOr5CVmSLJa",
        "outputId": "4a632348-b8b6-4a7a-a483-6eee40f6e6a3",
        "colab": {
          "base_uri": "https://localhost:8080/"
        }
      },
      "source": [
        "tns = torch.zeros(1,1,28,28)\n",
        "print('Tamanho original (B, C, H, W)\\n', tns.size(),'\\n')\n",
        "\n",
        "tns_flat = tns.view(1, 784)\n",
        "print('tns.view(1, 784)\\n', tns_flat.size(),'\\n')\n",
        "\n",
        "tns_flat = tns.view(tns.size(0), -1)\n",
        "print('tns.view(tns.size(0), -1)\\n', tns_flat.size())\n"
      ],
      "execution_count": 40,
      "outputs": [
        {
          "output_type": "stream",
          "text": [
            "Tamanho original (B, C, H, W)\n",
            " torch.Size([1, 1, 28, 28]) \n",
            "\n",
            "tns.view(1, 784)\n",
            " torch.Size([1, 784]) \n",
            "\n",
            "tns.view(tns.size(0), -1)\n",
            " torch.Size([1, 784])\n"
          ],
          "name": "stdout"
        }
      ]
    },
    {
      "cell_type": "markdown",
      "metadata": {
        "id": "l6bYBiA93L6m"
      },
      "source": [
        "## Derivação automática\n",
        "Os tensores possuem um parâmetro chamado **```requires_grad```** que define se ele será usado para computar gradientes no processo de otimização.\n",
        "\n",
        "A função **```backward()```** é a primeira a ser chamada no processo de otimização de redes neurais."
      ]
    },
    {
      "cell_type": "code",
      "metadata": {
        "id": "eaBMgjiZ3L6o",
        "outputId": "e5a5afcb-2a9e-44de-b515-ec9bc1ea509f",
        "colab": {
          "base_uri": "https://localhost:8080/"
        }
      },
      "source": [
        "tns = torch.tensor([[1., -1.], [1., 1.]], requires_grad=True)\n",
        "print(tns)\n",
        "print('-'*25)\n",
        "\n",
        "out = tns.pow(2).sum()\n",
        "#############\n",
        "out.backward()\n",
        "#############\n",
        "print(tns.grad)"
      ],
      "execution_count": null,
      "outputs": [
        {
          "output_type": "stream",
          "text": [
            "tensor([[ 1., -1.],\n",
            "        [ 1.,  1.]], requires_grad=True)\n",
            "-------------------------\n",
            "tensor([[ 2., -2.],\n",
            "        [ 2.,  2.]])\n"
          ],
          "name": "stdout"
        }
      ]
    }
  ]
}